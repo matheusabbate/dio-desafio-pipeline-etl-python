{
 "cells": [
  {
   "cell_type": "markdown",
   "metadata": {},
   "source": [
    "# Construindo um Pipeline ETL com Python - Análise de Dados de Fomento à Cultura\n",
    "\n",
    "Neste notebook, vamos construir um pipeline ETL (Extração, Transformação e Carga) para analisar dados de fomento à cultura a partir de um arquivo CSV. Vamos extrair os números de projetos e os valores captados por região e unidade federativa, calcular médias por região e criar gráficos para visualizar os valores originais e as médias.\n",
    "\n",
    "Para isso, seguiremos as etapas a seguir:\n",
    "1. Extração de dados do arquivo CSV.\n",
    "2. Transformação dos dados para calcular médias por região.\n",
    "3. Criação de gráficos para visualização dos valores originais e médias.\n"
   ]
  },
  {
   "cell_type": "code",
   "execution_count": 1,
   "metadata": {},
   "outputs": [],
   "source": [
    "# Etapa 1: Extração de dados\n",
    "import matplotlib.pyplot as plt\n",
    "import pandas as pd\n",
    "\n",
    "# Carregando os dados do arquivo CSV\n",
    "file_path = \"grid_Comparativo_Captacao_PorAno_Regiao_UF.csv\"\n",
    "df = pd.read_csv('grid_Comparativo_Captacao_PorAno_Regiao_UF.csv')\n",
    "\n",
    "# Visualizando as primeiras linhas do DataFrame\n",
    "print(df.head())"
   ]
  },
  {
   "cell_type": "code",
   "execution_count": 2,
   "metadata": {},
   "outputs": [],
   "source": [
    "# Etapa 2: Transformação dos dados\n",
    "\n",
    "# Dividir o trecho de dados em linhas\n",
    "lines = data.split('\\n')\n",
    "\n",
    "# Dividir as linhas em partes separadas por ';'\n",
    "data_list = [line.split(';') for line in lines]\n",
    "\n",
    "# Remover linhas em branco\n",
    "data_list = [line for line in data_list if line]\n",
    "\n",
    "# Criar um DataFrame\n",
    "df = pd.DataFrame(data_list[1:], columns=data_list[0])\n",
    "\n",
    "# Reorganizar as colunas de 'Valor Captado' para ficar ao lado das colunas de anos\n",
    "columns = df.columns.tolist()\n",
    "captado_columns = [col for col in columns if \"Vl.Captado\" in col]\n",
    "\n",
    "# Criar um novo DataFrame para armazenar os valores com tags de ano\n",
    "df_com_anos = df[['', 'Quantidade']]\n",
    "for col in captado_columns:\n",
    "    ano = col.split(';')[0]\n",
    "    df_com_anos[ano] = df[col].str.replace(',', '', regex=False).str.replace('.', '', regex=False).str.replace(' ', '', regex=False).str.replace('R$', '', regex=False).astype(float)\n",
    "\n",
    "# Converter as colunas de 'Valor Captado' para tipo numérico\n",
    "df_com_anos = df_com_anos.fillna(0)\n",
    "\n",
    "# Calcular a média por região\n",
    "media_por_regiao = df_com_anos.groupby('').mean().reset_index()\n",
    "\n",
    "# Exibir o DataFrame com tags de ano e as médias por região\n",
    "print(df_com_anos)\n",
    "print(media_por_regiao)\n",
    "\n",
    "# Calculando a média por região\n",
    "media_por_regiao = df.groupby('Região')['Valor Captado'].mean().reset_index()\n",
    "\n",
    "# Visualizando as médias\n",
    "media_por_regiao"
   ]
  },
  {
   "cell_type": "code",
   "execution_count": 3,
   "metadata": {},
   "outputs": [],
   "source": [
    "# Etapa 3: Criação de gráficos\n",
    "import seaborn as sns\n",
    "\n",
    "# Gráfico de barras para valores originais\n",
    "plt.figure(figsize=(12, 6))\n",
    "sns.barplot(data=df, x='Unidade Federativa', y='Valor Captado', hue='Região')\n",
    "plt.title('Valores Originais por Região e Unidade Federativa')\n",
    "plt.xticks(rotation=90)\n",
    "plt.show()\n",
    "\n",
    "# Gráfico de barras para médias por região\n",
    "plt.figure(figsize=(10, 5))\n",
    "sns.barplot(data=media_por_regiao, x='Região', y='Valor Captado')\n",
    "plt.title('Médias por Região')\n",
    "plt.xticks(rotation=45)\n",
    "plt.show()"
   ]
  }
 ],
 "metadata": {
  "kernelspec": {
   "display_name": "Python 3",
   "language": "python",
   "name": "python3"
  },
  "language_info": {
   "codemirror_mode": {
    "name": "ipython",
    "version": 3
   },
   "file_extension": ".py",
   "mimetype": "text/x-python",
   "name": "python",
   "nbconvert_exporter": "python",
   "pygments_lexer": "ipython3",
   "version": "3.8.5"
  }
 },
 "nbformat": 4,
 "nbformat_minor": 4
}
